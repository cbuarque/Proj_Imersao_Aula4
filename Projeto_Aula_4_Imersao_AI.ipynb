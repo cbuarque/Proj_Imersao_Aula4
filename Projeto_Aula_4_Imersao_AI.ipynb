{
  "nbformat": 4,
  "nbformat_minor": 0,
  "metadata": {
    "colab": {
      "provenance": [],
      "toc_visible": true,
      "authorship_tag": "ABX9TyO7jUWKj9966WsrVA0n2W+f",
      "include_colab_link": true
    },
    "kernelspec": {
      "name": "python3",
      "display_name": "Python 3"
    },
    "language_info": {
      "name": "python"
    }
  },
  "cells": [
    {
      "cell_type": "markdown",
      "metadata": {
        "id": "view-in-github",
        "colab_type": "text"
      },
      "source": [
        "<a href=\"https://colab.research.google.com/github/cbuarque/Proj_Imersao_Aula4/blob/main/Projeto_Aula_4_Imersao_AI.ipynb\" target=\"_parent\"><img src=\"https://colab.research.google.com/assets/colab-badge.svg\" alt=\"Open In Colab\"/></a>"
      ]
    },
    {
      "cell_type": "markdown",
      "source": [
        "Instalando o SDK do Google"
      ],
      "metadata": {
        "id": "qBOadByq_KtI"
      }
    },
    {
      "cell_type": "code",
      "execution_count": 1,
      "metadata": {
        "id": "HBK4V71w7C2H"
      },
      "outputs": [],
      "source": [
        "!pip install -q -U google-generativeai"
      ]
    },
    {
      "cell_type": "code",
      "source": [
        "# Import the Python SDK\n",
        "import google.generativeai as genai\n",
        "\n",
        "GOOGLE_API_KEY=\"COLE SUA API KEY AQUI\"\n",
        "genai.configure(api_key=GOOGLE_API_KEY)"
      ],
      "metadata": {
        "id": "-4AIC6XN_djs"
      },
      "execution_count": 2,
      "outputs": []
    },
    {
      "cell_type": "markdown",
      "source": [
        "Listar os modelos disponíveis:"
      ],
      "metadata": {
        "id": "H7BWDP3q_njr"
      }
    },
    {
      "cell_type": "code",
      "source": [
        "for m in genai.list_models():\n",
        "  if 'generateContent' in m.supported_generation_methods:\n",
        "    print(m.name)"
      ],
      "metadata": {
        "colab": {
          "base_uri": "https://localhost:8080/",
          "height": 139
        },
        "id": "XhpZ9LRG_k5P",
        "outputId": "1d24f382-8436-4c73-bd47-fe2af6f9d1ec"
      },
      "execution_count": 3,
      "outputs": [
        {
          "output_type": "stream",
          "name": "stdout",
          "text": [
            "models/gemini-1.0-pro\n",
            "models/gemini-1.0-pro-001\n",
            "models/gemini-1.0-pro-latest\n",
            "models/gemini-1.0-pro-vision-latest\n",
            "models/gemini-1.5-pro-latest\n",
            "models/gemini-pro\n",
            "models/gemini-pro-vision\n"
          ]
        }
      ]
    },
    {
      "cell_type": "code",
      "source": [
        "generation_config = {\n",
        "    \"candidate_count\":1,\n",
        "    \"temperature\": 0.5,\n",
        "}"
      ],
      "metadata": {
        "id": "toV1qpX3BjFo"
      },
      "execution_count": 5,
      "outputs": []
    },
    {
      "cell_type": "code",
      "source": [
        "safety_settings = {\n",
        "    \"HARASSMENT\": \"BLOCK_NONE\",\n",
        "    \"HATE\": \"BLOCK_NONE\",\n",
        "    \"SEXUAL\": \"BLOCK_NONE\",\n",
        "    \"DANGEROUS\": \"BLOCK_NONE\",\n",
        "}"
      ],
      "metadata": {
        "id": "ap4INUuqCbL4"
      },
      "execution_count": 6,
      "outputs": []
    },
    {
      "cell_type": "markdown",
      "source": [
        "Inicializando o modelo"
      ],
      "metadata": {
        "id": "UZonrkwGDawa"
      }
    },
    {
      "cell_type": "code",
      "source": [
        "model = genai.GenerativeModel(model_name=\"gemini-1.0-pro\",\n",
        "                              generation_config=generation_config,\n",
        "                              safety_settings=safety_settings)\n"
      ],
      "metadata": {
        "id": "ETgPJVc2DWSM"
      },
      "execution_count": 7,
      "outputs": []
    },
    {
      "cell_type": "code",
      "source": [
        "response = model.generate_content(\"Write a story about a magic backpack.\")\n",
        "print(response.text)"
      ],
      "metadata": {
        "colab": {
          "base_uri": "https://localhost:8080/",
          "height": 402
        },
        "id": "Ua6svVvAER6_",
        "outputId": "72f13062-02c7-46dc-ee5c-15e07aa0f975"
      },
      "execution_count": 8,
      "outputs": [
        {
          "output_type": "stream",
          "name": "stdout",
          "text": [
            "In the quaint town of Willow Creek, there lived a curious young girl named Anya. One ordinary morning, as she rummaged through the attic of her grandmother's house, she stumbled upon a dusty old backpack hidden beneath a pile of forgotten treasures.\n",
            "\n",
            "Intrigued, Anya opened the backpack and gasped in astonishment. Its interior was a vibrant kaleidoscope of colors, shimmering with ethereal light. As she reached inside, she felt a surge of warmth and a whisper in her ear, \"This is no ordinary backpack, child.\"\n",
            "\n",
            "From that day forward, Anya's world transformed. The backpack became her constant companion, and with each adventure, she discovered its extraordinary powers.\n",
            "\n",
            "One afternoon, as she strolled through the park, she noticed a group of children teasing a smaller boy. Her heart sank, but then she remembered the backpack. She dipped into its depths and retrieved a gleaming silver whistle.\n",
            "\n",
            "As she blew into the whistle, a melodious tune filled the air, instantly captivating the bullies. They froze in their tracks, their expressions changing from mischief to wonder. Anya seized the opportunity to teach them the importance of kindness and compassion.\n",
            "\n",
            "On another occasion, Anya found herself lost in a dense forest. Fear gnawed at her, but she remembered the backpack. She pulled out a tiny compass that pointed her way back to safety.\n",
            "\n",
            "As the days turned into weeks, Anya's reputation as the girl with the magic backpack spread throughout Willow Creek. People sought her help for all manner of things, from finding lost objects to mending broken hearts.\n",
            "\n",
            "One evening, as Anya sat by the fireplace reading a book, she heard a knock at the door. It was a young woman named Sarah, her eyes filled with tears. Sarah explained that she had lost her beloved dog, Buddy, and was desperate to find him.\n",
            "\n",
            "Anya didn't hesitate. She reached into the backpack and retrieved a magical leash. As she fastened it around her wrist, a faint glow illuminated the room. Suddenly, the leash began to tug, leading Anya and Sarah on a thrilling chase through the town.\n",
            "\n",
            "Finally, they found Buddy hiding under a bush. Sarah's heart overflowed with joy as she embraced her furry companion. That night, Anya realized that the true magic of the backpack lay not in its extraordinary powers, but in the ability to spread happiness and make a difference in the lives of others.\n",
            "\n",
            "And so, Anya continued her adventures with her magic backpack, forever grateful for the boundless possibilities it held.\n"
          ]
        }
      ]
    },
    {
      "cell_type": "code",
      "source": [
        "chat = model.start_chat(history=[])"
      ],
      "metadata": {
        "id": "Ecc9FBGIEwUa"
      },
      "execution_count": 9,
      "outputs": []
    },
    {
      "cell_type": "code",
      "source": [
        "prompt = input(\"Esperando prompt: \")\n",
        "while prompt != \"fim\":\n",
        "  response = chat.send_message(prompt)\n",
        "  print(\"Resposta: \", response.text, \"\\n\")\n",
        "  prompt = input(\"Esperando prompt: \")"
      ],
      "metadata": {
        "colab": {
          "base_uri": "https://localhost:8080/",
          "height": 191
        },
        "id": "KBWIHT6BFOZz",
        "outputId": "c1b353c7-61a6-4578-b0c4-88aa69101d6d"
      },
      "execution_count": 10,
      "outputs": [
        {
          "name": "stdout",
          "output_type": "stream",
          "text": [
            "Esperando prompt: Qual é a capital do Japão?\n",
            "Resposta:  Tóquio \n",
            "\n",
            "Esperando prompt: Qual é a comida típica desse país? \n",
            "Resposta:  Sushi \n",
            "\n",
            "Esperando prompt: O meu primo nasceu nessa cidade. Qaul a nacionalidade dele? \n",
            "Resposta:  Japonesa \n",
            "\n",
            "Esperando prompt: fim\n"
          ]
        }
      ]
    },
    {
      "cell_type": "code",
      "source": [
        "chat.history"
      ],
      "metadata": {
        "colab": {
          "base_uri": "https://localhost:8080/"
        },
        "id": "39Ik8LqYHaid",
        "outputId": "55828d7c-d8c6-49ec-f9c5-abc4ba893b7c"
      },
      "execution_count": 11,
      "outputs": [
        {
          "output_type": "execute_result",
          "data": {
            "text/plain": [
              "[parts {\n",
              "   text: \"Qual \\303\\251 a capital do Jap\\303\\243o?\"\n",
              " }\n",
              " role: \"user\",\n",
              " parts {\n",
              "   text: \"T\\303\\263quio\"\n",
              " }\n",
              " role: \"model\",\n",
              " parts {\n",
              "   text: \"Qual \\303\\251 a comida t\\303\\255pica desse pa\\303\\255s? \"\n",
              " }\n",
              " role: \"user\",\n",
              " parts {\n",
              "   text: \"Sushi\"\n",
              " }\n",
              " role: \"model\",\n",
              " parts {\n",
              "   text: \"O meu primo nasceu nessa cidade. Qaul a nacionalidade dele? \"\n",
              " }\n",
              " role: \"user\",\n",
              " parts {\n",
              "   text: \"Japonesa\"\n",
              " }\n",
              " role: \"model\"]"
            ]
          },
          "metadata": {},
          "execution_count": 11
        }
      ]
    }
  ]
}